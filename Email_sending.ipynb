{
 "cells": [
  {
   "cell_type": "code",
   "execution_count": 1,
   "metadata": {},
   "outputs": [],
   "source": [
    "import smtplib"
   ]
  },
  {
   "cell_type": "code",
   "execution_count": null,
   "metadata": {},
   "outputs": [],
   "source": [
    "content='This is an email from Utkarsh'\n",
    "body='\\r\\n'.join(['To: %s'%'recievers id',content])\n",
    "#smtp object created\n",
    "mail=smtplib.SMTP('smtp.gmail.com',587)\n",
    "mail.starttls()\n",
    "mail.login('username','password')\n",
    "try:\n",
    "    mail.sendmail('sender','recievers id',' content')\n",
    "    #send your message\n",
    "    print('Mail sent')\n",
    "except:\n",
    "    print('Error Occured')\n",
    "    \n",
    "#closing email id\n",
    "mail.close()\n",
    "        "
   ]
  }
 ],
 "metadata": {
  "kernelspec": {
   "display_name": "Python 3",
   "language": "python",
   "name": "python3"
  },
  "language_info": {
   "codemirror_mode": {
    "name": "ipython",
    "version": 3
   },
   "file_extension": ".py",
   "mimetype": "text/x-python",
   "name": "python",
   "nbconvert_exporter": "python",
   "pygments_lexer": "ipython3",
   "version": "3.7.0"
  }
 },
 "nbformat": 4,
 "nbformat_minor": 2
}
