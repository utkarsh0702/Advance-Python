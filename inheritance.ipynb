{
 "cells": [
  {
   "cell_type": "code",
   "execution_count": 6,
   "metadata": {},
   "outputs": [
    {
     "name": "stdout",
     "output_type": "stream",
     "text": [
      "This class contain vechiles with four wheels\n"
     ]
    },
    {
     "data": {
      "text/plain": [
       "<__main__.four_wheeler at 0x269899ce128>"
      ]
     },
     "execution_count": 6,
     "metadata": {},
     "output_type": "execute_result"
    }
   ],
   "source": [
    "class automobiles:\n",
    "    def __init__(self):\n",
    "        print('This is the highest class of transportation....')\n",
    "        \n",
    "class vechiles(automobiles):\n",
    "    def __init__(sel):\n",
    "        print('This class is only for land transportation...')\n",
    "        \n",
    "class two_wheeler(vechiles):\n",
    "    def __init__(se):\n",
    "        print('This class contain vechiles with two wheels')\n",
    "        \n",
    "class four_wheeler(vechiles):\n",
    "    def __init__(s):\n",
    "        print('This class contain vechiles with four wheels')\n",
    "        \n",
    "four= four_wheeler()\n",
    "four"
   ]
  },
  {
   "cell_type": "code",
   "execution_count": null,
   "metadata": {},
   "outputs": [],
   "source": []
  }
 ],
 "metadata": {
  "kernelspec": {
   "display_name": "Python 3",
   "language": "python",
   "name": "python3"
  },
  "language_info": {
   "codemirror_mode": {
    "name": "ipython",
    "version": 3
   },
   "file_extension": ".py",
   "mimetype": "text/x-python",
   "name": "python",
   "nbconvert_exporter": "python",
   "pygments_lexer": "ipython3",
   "version": "3.7.0"
  }
 },
 "nbformat": 4,
 "nbformat_minor": 2
}
