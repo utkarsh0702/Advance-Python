{
 "cells": [
  {
   "cell_type": "code",
   "execution_count": 1,
   "metadata": {},
   "outputs": [],
   "source": [
    "import socket as sr"
   ]
  },
  {
   "cell_type": "code",
   "execution_count": null,
   "metadata": {},
   "outputs": [],
   "source": [
    "#server program\n",
    "s= sr.socket()       #creating a socket\n",
    "print('Socket Created..')\n",
    "port= 12345                #setting a port number\n",
    "host= sr.gethostname()\n",
    "s.bind((host,port))        #binding to specific ip and port\n",
    "print('Socket binded to port')\n",
    "\n",
    "s.listen(5)                 #put socket to listening \n",
    "print('Socket is listening')\n",
    "\n",
    "while True:\n",
    "    #establish a connection to client\n",
    "    c,addr=s.accept()\n",
    "    print('Got connection from',addr)\n",
    "    \n",
    "    c.send(b'Thank you for conecting ...............')               #sending a message to client\n",
    "    \n",
    "    c.close()                    #close connection with client\n",
    "    \n",
    "    "
   ]
  },
  {
   "cell_type": "code",
   "execution_count": null,
   "metadata": {},
   "outputs": [],
   "source": [
    "#client program\n",
    "cl=sr.socket()        #creating a socket\n",
    "port=12345         #setting a port number       \n",
    "cl.connect(('127.0.0.1',port))            #connecting to server\n",
    "print(cl.recv(1024))          # recieving to server\n",
    "cl.close()"
   ]
  }
 ],
 "metadata": {
  "kernelspec": {
   "display_name": "Python 3",
   "language": "python",
   "name": "python3"
  },
  "language_info": {
   "codemirror_mode": {
    "name": "ipython",
    "version": 3
   },
   "file_extension": ".py",
   "mimetype": "text/x-python",
   "name": "python",
   "nbconvert_exporter": "python",
   "pygments_lexer": "ipython3",
   "version": "3.7.0"
  }
 },
 "nbformat": 4,
 "nbformat_minor": 2
}
