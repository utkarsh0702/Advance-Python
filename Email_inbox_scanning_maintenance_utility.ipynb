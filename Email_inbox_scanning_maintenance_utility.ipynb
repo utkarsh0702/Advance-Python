{
 "cells": [
  {
   "cell_type": "code",
   "execution_count": null,
   "metadata": {},
   "outputs": [
    {
     "name": "stdout",
     "output_type": "stream",
     "text": [
      "Connecting...\n"
     ]
    }
   ],
   "source": [
    "import poplib, getpass, sys\n",
    "\n",
    "mailserver= 'gmail.com'\n",
    "mailuser= 'rakesh072000@gmail.com'\n",
    "mailpass= 'rakeshsharma#'\n",
    "\n",
    "print('Connecting...')\n",
    "server= poplib.POP3(mailserver)\n",
    "server.user(mailuser)\n",
    "server.pass_(mailpass)\n",
    "\n",
    "try:\n",
    "    print(server.getwelcome())\n",
    "    msgCount, mboxSize= server.stat()\n",
    "    print('There are', msgCount, 'Mail message, Size', mboxSize)\n",
    "    msginfo= server.list()\n",
    "    print(msginfo)\n",
    "    for i in range(msgCount):\n",
    "        msgnum= i+1\n",
    "        msgsize = msginfo[1][i].split()[1]\n",
    "        resp,hdrlines, octets= server.top(msgnum, 0)\n",
    "        print('-'*80)\n",
    "        print('[%d: octets= %d, size= %s]' %(msgnum,octets, msgsize))\n",
    "        \n",
    "        for line in hdrlines:\n",
    "            print(line)\n",
    "            \n",
    "        if input('Print?') in ['y', 'Y']:\n",
    "            for line in server.retr(msgnum)[1]:\n",
    "                print(line)\n",
    "            \n",
    "        if input('Delete?') in ['y', 'Y']:\n",
    "            print('Deleting...')\n",
    "            server.dele(msgnum)\n",
    "            \n",
    "        else:\n",
    "            pint('Skipping..')\n",
    "\n",
    "finally:\n",
    "    server.quit()\n",
    "    \n",
    "input('Bye...........')\n",
    "    \n",
    "                "
   ]
  },
  {
   "cell_type": "code",
   "execution_count": null,
   "metadata": {
    "collapsed": true
   },
   "outputs": [],
   "source": []
  }
 ],
 "metadata": {
  "kernelspec": {
   "display_name": "Python 3",
   "language": "python",
   "name": "python3"
  },
  "language_info": {
   "codemirror_mode": {
    "name": "ipython",
    "version": 3
   },
   "file_extension": ".py",
   "mimetype": "text/x-python",
   "name": "python",
   "nbconvert_exporter": "python",
   "pygments_lexer": "ipython3",
   "version": "3.6.2"
  }
 },
 "nbformat": 4,
 "nbformat_minor": 2
}
