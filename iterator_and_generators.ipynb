{
 "cells": [
  {
   "cell_type": "code",
   "execution_count": 1,
   "metadata": {},
   "outputs": [
    {
     "name": "stdout",
     "output_type": "stream",
     "text": [
      "P\n",
      "y\n",
      "t\n",
      "h\n",
      "o\n",
      "n\n"
     ]
    }
   ],
   "source": [
    "# Iterators\n",
    "\n",
    "class iterate_class:\n",
    "    def __init__(self,letter):\n",
    "        self.letter=letter\n",
    "        self.position=0\n",
    "        \n",
    "    def __iter__(self):\n",
    "        return self\n",
    "    \n",
    "    def __next__(self):\n",
    "        if(self.position>= len(self.letter)):\n",
    "            raise StopIteration\n",
    "        let=self.letter[self.position]\n",
    "        self.position+=1\n",
    "        return let\n",
    "    \n",
    "if __name__=='__main__':\n",
    "    f=iterate_class('Python')\n",
    "    for items in f:\n",
    "        print(items)\n",
    "        \n",
    "    \n",
    "   "
   ]
  },
  {
   "cell_type": "code",
   "execution_count": null,
   "metadata": {},
   "outputs": [],
   "source": [
    "# Generators\n",
    "\n",
    "# example 1\n",
    "def doubler():\n",
    "    num=2\n",
    "    while True:\n",
    "        yield num\n",
    "        num*=2\n",
    "\n",
    "double= doubler()\n",
    "print(next(double))\n",
    "\n",
    "# example 2\n",
    "def silly_generator():\n",
    "    yield 'python'\n",
    "    yield 'Utkarsh'\n",
    "    yield 'Mishra'\n",
    "    \n",
    "silly= silly_generator_()\n",
    "next(silly)\n"
   ]
  }
 ],
 "metadata": {
  "kernelspec": {
   "display_name": "Python 3",
   "language": "python",
   "name": "python3"
  },
  "language_info": {
   "codemirror_mode": {
    "name": "ipython",
    "version": 3
   },
   "file_extension": ".py",
   "mimetype": "text/x-python",
   "name": "python",
   "nbconvert_exporter": "python",
   "pygments_lexer": "ipython3",
   "version": "3.7.0"
  }
 },
 "nbformat": 4,
 "nbformat_minor": 2
}
