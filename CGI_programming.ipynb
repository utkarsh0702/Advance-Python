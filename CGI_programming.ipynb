{
 "cells": [
  {
   "cell_type": "code",
   "execution_count": null,
   "metadata": {},
   "outputs": [],
   "source": [
    "#! C:\\User\\Utkarsh\\AppData\\Local\\conda\\conda\\pkgs\\python.exe\n",
    "\n",
    "print('Content-type:text/html\\r\\n\\r\\n')\n",
    "print('<html>')\n",
    "print('<head>')\n",
    "print('<title>Hello World</title>')\n",
    "print('</head>')\n",
    "print('<body>')\n",
    "print('<h2>Hello this is Utkarsh</h2>')\n",
    "print('</body>')\n",
    "print('</html>')"
   ]
  }
 ],
 "metadata": {
  "kernelspec": {
   "display_name": "Python 3",
   "language": "python",
   "name": "python3"
  },
  "language_info": {
   "codemirror_mode": {
    "name": "ipython",
    "version": 3
   },
   "file_extension": ".py",
   "mimetype": "text/x-python",
   "name": "python",
   "nbconvert_exporter": "python",
   "pygments_lexer": "ipython3",
   "version": "3.7.0"
  }
 },
 "nbformat": 4,
 "nbformat_minor": 2
}
